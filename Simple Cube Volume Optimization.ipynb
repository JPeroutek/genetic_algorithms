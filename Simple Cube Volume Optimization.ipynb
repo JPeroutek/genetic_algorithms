{
 "cells": [
  {
   "cell_type": "markdown",
   "metadata": {},
   "source": [
    "# Simple Cube Volume Optimization\n",
    "\n",
    "Each solution or \"member\" of the population consists of an `x`, `y`, and `z` value.  We are trying to optimize these values to result in the cube with the largest volume.\n",
    "\n",
    "There are 4 basic operations that go into preparing the next generation: Selection, Crossover, Mutation, and Generation.\n",
    "\n",
    "## Selection\n",
    "This one is simple. Just keep the top `n` performers from the previous generation\n",
    "\n",
    "## Crossover\n",
    "Perform a \"pseudo-merge\" of two high-performing solutions to see if the child yields better results\n",
    "\n",
    "## Mutation\n",
    "Randomly change some of the values in a high-performing solution to see if it can be improved\n",
    "\n",
    "## Generation\n",
    "Create some new random member for the population.  Maybe they'll beat the current top performers."
   ]
  },
  {
   "cell_type": "code",
   "execution_count": 1,
   "metadata": {},
   "outputs": [],
   "source": [
    "import random\n",
    "import operator\n",
    "import itertools\n",
    "from pprint import pprint\n",
    "\n",
    "# How much mutations should alter the value\n",
    "MUTATION_MODIFIER = 0.05\n",
    "# Number of solutions in a population\n",
    "POPULATION_SIZE = 25\n",
    "# How many iterations should a solution be \"on-top\" for it to be considered the correct solution?\n",
    "STATIC_ITERATION_VALUE = 5\n",
    "# For now, we will just use a set number of iterations.\n",
    "ITERATION_COUNT = 10\n",
    "\n",
    "# Rates at which each process occurs.  These should add up to 1.\n",
    "SELECTION_RATE = .2\n",
    "CROSSOVER_RATE = .4\n",
    "MUTATION_RATE = .2\n",
    "GENERATION_RATE = .2\n",
    "\n",
    "# Range of values for x, y, and z.   (min, max)\n",
    "VALUE_RANGE = (0,100)"
   ]
  },
  {
   "cell_type": "code",
   "execution_count": 2,
   "metadata": {},
   "outputs": [],
   "source": [
    "def fitness(solution):\n",
    "    return list(itertools.accumulate(solution, operator.mul))[-1]"
   ]
  },
  {
   "cell_type": "code",
   "execution_count": 3,
   "metadata": {},
   "outputs": [],
   "source": [
    "def crossover(solution1, solution2):\n",
    "    \"\"\"Swap 2 of the values\"\"\"\n",
    "    coord_to_cross = random.choice(range(len(solution1)))\n",
    "    solution1, solution2 = solution1.copy(), solution2.copy()\n",
    "    solution1[coord_to_cross], solution2[coord_to_cross] = solution2[coord_to_cross], solution1[coord_to_cross]\n",
    "    return (solution1,solution2)"
   ]
  },
  {
   "cell_type": "code",
   "execution_count": 4,
   "metadata": {},
   "outputs": [],
   "source": [
    "def create_crossover_pairs(population):\n",
    "    n_pairs = int(CROSSOVER_RATE * POPULATION_SIZE) // 2\n",
    "    pairs = []\n",
    "    for i in range(0, n_pairs*2, 2):\n",
    "        pairs.append((population[i], population[i+1]))\n",
    "    # pprint(pairs)\n",
    "    return pairs\n",
    "    # return [(population[i],population[i+1]) for i in range(0, n_pairs*2, 2)]"
   ]
  },
  {
   "cell_type": "code",
   "execution_count": 5,
   "metadata": {},
   "outputs": [],
   "source": [
    "def mutate(solution):\n",
    "    \"\"\"Mutate a single coordinate value of the solution.  Either up or down.\"\"\"\n",
    "    solution = solution.copy()\n",
    "    coord_to_mutate = random.choice(range(len(solution)))\n",
    "    # Could also add random.uniform(0,MUTATION_MODIFER) to allow mutation amount to vary.\n",
    "    solution[coord_to_mutate] *= 1 + (random.choice([1,-1]) * MUTATION_MODIFIER)\n",
    "    # Ensure it is in the allowable range though.\n",
    "    solution[coord_to_mutate] = max(min(solution[coord_to_mutate], VALUE_RANGE[1]), VALUE_RANGE[0])\n",
    "    return solution"
   ]
  },
  {
   "cell_type": "code",
   "execution_count": 6,
   "metadata": {},
   "outputs": [],
   "source": [
    "def create_new_solution():\n",
    "    return [random.uniform(*VALUE_RANGE) for _ in range(3)]"
   ]
  },
  {
   "cell_type": "code",
   "execution_count": 7,
   "metadata": {},
   "outputs": [],
   "source": [
    "def create_initial_population():\n",
    "    return [create_new_solution() for _ in range(POPULATION_SIZE)]"
   ]
  },
  {
   "cell_type": "code",
   "execution_count": 8,
   "metadata": {},
   "outputs": [],
   "source": [
    "def create_next_generation(current_population):\n",
    "    new_population = []\n",
    "    # Perform Selection\n",
    "    n_selections = int(SELECTION_RATE * POPULATION_SIZE)\n",
    "    selection_candidates = current_population[:n_selections]\n",
    "    new_population.extend(selection_candidates)\n",
    "    # Perform Crossover\n",
    "    for pair in create_crossover_pairs(current_population):\n",
    "        new_population.extend(crossover(*pair))\n",
    "    # Perform Mutation\n",
    "    n_mutations = int(MUTATION_RATE * POPULATION_SIZE)\n",
    "    new_population.extend([mutate(s) for s in current_population[:n_mutations]])\n",
    "    # Perform Generation\n",
    "    n_generations = int(GENERATION_RATE * POPULATION_SIZE)\n",
    "    new_population.extend([create_new_solution() for _ in range(n_generations)])\n",
    "    return new_population"
   ]
  },
  {
   "cell_type": "code",
   "execution_count": 9,
   "metadata": {},
   "outputs": [
    {
     "name": "stdout",
     "output_type": "stream",
     "text": [
      "Current top-performing solution: \n",
      "[81.7959, 94.8977, 80.3823] with a fitness of 623946.9754\n",
      "Current top-performing solution: \n",
      "[81.7959, 94.8977, 84.4014] with a fitness of 655144.3242\n",
      "Current top-performing solution: \n",
      "[81.7959, 94.8977, 84.4014] with a fitness of 655144.3242\n",
      "Current top-performing solution: \n",
      "[81.7959, 94.8977, 97.2447] with a fitness of 754837.7062\n",
      "Current top-performing solution: \n",
      "[81.7959, 99.6426, 97.2447] with a fitness of 792579.5916\n",
      "Current top-performing solution: \n",
      "[85.8857, 99.6426, 97.2447] with a fitness of 832208.5711\n",
      "Current top-performing solution: \n",
      "[90.1800, 99.6426, 97.2447] with a fitness of 873818.9997\n",
      "Current top-performing solution: \n",
      "[90.1800, 100.0000, 97.2447] with a fitness of 876952.9705\n",
      "Current top-performing solution: \n",
      "[90.1800, 99.6426, 100.0000] with a fitness of 898577.2567\n",
      "Current top-performing solution: \n",
      "[90.1800, 100.0000, 100.0000] with a fitness of 901800.0236\n"
     ]
    }
   ],
   "source": [
    "# Demonstrate algorithm working with a set number of iterations\n",
    "population = create_initial_population()\n",
    "for i in range(ITERATION_COUNT):\n",
    "    population = sorted(population, key=fitness, reverse=True)\n",
    "    # print(population)\n",
    "    print(\"Current top-performing solution: \")\n",
    "    print(\"[{:.4f}, {:.4f}, {:.4f}] with a fitness of {:.4f}\".format(*population[0], fitness(population[0])))\n",
    "    population = create_next_generation(population)\n"
   ]
  },
  {
   "cell_type": "code",
   "execution_count": 10,
   "metadata": {},
   "outputs": [
    {
     "name": "stdout",
     "output_type": "stream",
     "text": [
      "Current top-performing solution: \n",
      "[80.1813, 92.1085, 95.4955] with a fitness of 705270.8809\n",
      "Current top-performing solution: \n",
      "[84.0913, 92.1085, 95.4955] with a fitness of 739662.6455\n",
      "Current top-performing solution: \n",
      "[99.8478, 92.1085, 83.1243] with a fitness of 764480.4002\n",
      "Current top-performing solution: \n",
      "[88.2958, 92.1085, 95.4955] with a fitness of 776645.7778\n",
      "Current top-performing solution: \n",
      "[99.8478, 92.1085, 95.4955] with a fitness of 878256.7000\n",
      "Current top-performing solution: \n",
      "[99.8478, 92.1085, 100.0000] with a fitness of 919683.5234\n",
      "Current top-performing solution: \n",
      "[100.0000, 92.1085, 100.0000] with a fitness of 921085.0055\n",
      "Current top-performing solution: \n",
      "[99.8478, 96.7139, 100.0000] with a fitness of 965667.6996\n",
      "Current top-performing solution: \n",
      "[99.8478, 100.0000, 100.0000] with a fitness of 998478.4444\n",
      "Current top-performing solution: \n",
      "[100.0000, 100.0000, 100.0000] with a fitness of 1000000.0000\n",
      "Current top-performing solution: \n",
      "[100.0000, 100.0000, 100.0000] with a fitness of 1000000.0000\n",
      "Current top-performing solution: \n",
      "[100.0000, 100.0000, 100.0000] with a fitness of 1000000.0000\n",
      "Current top-performing solution: \n",
      "[100.0000, 100.0000, 100.0000] with a fitness of 1000000.0000\n",
      "~~~~~~~~~~~~~~~\n",
      "Optimal solution (possibly) found:\n",
      "[100.0000, 100.0000, 100.0000] with a fitness of 1000000.0000 after 14 iterations\n"
     ]
    }
   ],
   "source": [
    "# Demonstrate algorithm working with a convergence check.  \n",
    "population = sorted(create_initial_population(), key=fitness, reverse=True)\n",
    "fitness_values = [[population[0], 1]]\n",
    "n_iterations = 1\n",
    "while fitness_values[-1][1] < STATIC_ITERATION_VALUE:\n",
    "    print(\"Current top-performing solution: \")\n",
    "    print(\"[{:.4f}, {:.4f}, {:.4f}] with a fitness of {:.4f}\".format(*population[0], fitness(population[0])))\n",
    "    population = sorted(create_next_generation(population), key=fitness, reverse=True)\n",
    "    n_iterations += 1\n",
    "    if fitness_values[-1][0] == population[0]:\n",
    "        fitness_values[-1][1] += 1\n",
    "    else:\n",
    "        fitness_values.append([population[0], 1])\n",
    "print(\"~\"*15)\n",
    "print(\"Optimal solution (possibly) found:\")\n",
    "print(\"[{:.4f}, {:.4f}, {:.4f}] with a fitness of {:.4f} after {} iterations\".format(*population[0], fitness(population[0]), n_iterations))"
   ]
  },
  {
   "cell_type": "code",
   "execution_count": null,
   "metadata": {},
   "outputs": [],
   "source": []
  }
 ],
 "metadata": {
  "kernelspec": {
   "display_name": "Python 3",
   "language": "python",
   "name": "python3"
  },
  "language_info": {
   "codemirror_mode": {
    "name": "ipython",
    "version": 3
   },
   "file_extension": ".py",
   "mimetype": "text/x-python",
   "name": "python",
   "nbconvert_exporter": "python",
   "pygments_lexer": "ipython3",
   "version": "3.6.5"
  }
 },
 "nbformat": 4,
 "nbformat_minor": 2
}
